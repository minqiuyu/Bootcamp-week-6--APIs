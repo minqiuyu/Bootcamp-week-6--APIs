{
 "cells": [
  {
   "cell_type": "code",
   "execution_count": 48,
   "metadata": {
    "scrolled": true
   },
   "outputs": [],
   "source": [
    "# Dependencies and Setup\n",
    "import matplotlib.pyplot as plt\n",
    "import pandas as pd\n",
    "import numpy as np\n",
    "import requests\n",
    "import time\n",
    "import datetime\n",
    "from pprint import pprint\n",
    "now = datetime.datetime.now()\n",
    "owmapi_key = \"ce9f00814163f822807d8dc2f59f0252\"\n",
    "\n",
    "# Incorporated citipy to determine city based on latitude and longitude\n",
    "from citipy import citipy\n",
    "\n",
    "# Output File (CSV)\n",
    "output_data_file = \"output_data/cities.csv\"\n",
    "\n",
    "# Range of latitudes and longitudes\n",
    "lat_range = (-90, 90)\n",
    "lng_range = (-180, 180)\n",
    "\n",
    "# API call:\n",
    "# http://api.openweathermap.org/data/2.5/forecast?id=524901&APPID={APIKEY}\n",
    "# Parameters:\n",
    "# APPID {APIKEY} is your unique API key \n",
    "# Example of API call:\n",
    "# api.openweathermap.org/data/2.5/forecast?id=524901&APPID=1111111111"
   ]
  },
  {
   "cell_type": "markdown",
   "metadata": {},
   "source": [
    "## Generate Cities List"
   ]
  },
  {
   "cell_type": "code",
   "execution_count": 2,
   "metadata": {},
   "outputs": [
    {
     "data": {
      "text/plain": [
       "638"
      ]
     },
     "execution_count": 2,
     "metadata": {},
     "output_type": "execute_result"
    }
   ],
   "source": [
    "# List for holding lat_lngs and cities\n",
    "lat_lngs = []\n",
    "cities = []\n",
    "\n",
    "# Create a set of random lat and lng combinations\n",
    "lats = np.random.uniform(low=-90.000, high=90.000, size=1500)\n",
    "lngs = np.random.uniform(low=-180.000, high=180.000, size=1500)\n",
    "lat_lngs = zip(lats, lngs)\n",
    "\n",
    "# Identify nearest city for each lat, lng combination\n",
    "for lat_lng in lat_lngs:\n",
    "    city = citipy.nearest_city(lat_lng[0], lat_lng[1]).city_name\n",
    "    \n",
    "    # If the city is unique, then add it to a our cities list\n",
    "    if city not in cities:\n",
    "        cities.append(city)\n",
    "\n",
    "# Print the city count to confirm sufficient count\n",
    "len(cities)\n"
   ]
  },
  {
   "cell_type": "markdown",
   "metadata": {},
   "source": [
    "## Perform API Calls"
   ]
  },
  {
   "cell_type": "code",
   "execution_count": 59,
   "metadata": {},
   "outputs": [
    {
     "name": "stdout",
     "output_type": "stream",
     "text": [
      "'The weather API for aswan responded with: '\n",
      "{'base': 'stations',\n",
      " 'clouds': {'all': 12},\n",
      " 'cod': 200,\n",
      " 'coord': {'lat': 27.69, 'lon': -105.17},\n",
      " 'dt': 1538476386,\n",
      " 'id': 4013724,\n",
      " 'main': {'grnd_level': 877.74,\n",
      "          'humidity': 76,\n",
      "          'pressure': 877.74,\n",
      "          'sea_level': 1027.82,\n",
      "          'temp': 63.75,\n",
      "          'temp_max': 63.75,\n",
      "          'temp_min': 63.75},\n",
      " 'name': 'Camargo',\n",
      " 'sys': {'country': 'MX',\n",
      "         'message': 0.0041,\n",
      "         'sunrise': 1538484852,\n",
      "         'sunset': 1538527501},\n",
      " 'weather': [{'description': 'few clouds',\n",
      "              'icon': '02n',\n",
      "              'id': 801,\n",
      "              'main': 'Clouds'}],\n",
      " 'wind': {'deg': 138.004, 'speed': 5.17}}\n"
     ]
    }
   ],
   "source": [
    "# # Name = []\n",
    "# # Cloudiness = []\n",
    "# # Country = []\n",
    "# # Date = []\n",
    "# # Humidity = []\n",
    "# # Latitude = []\n",
    "# # Longitude = []\n",
    "# # Temperature = []\n",
    "# # Wind_Speed = []\n",
    "# # OpenWeatherMap API Key\n",
    "# api_key = owmapi_key\n",
    "# selection = np.random.randint(low=0, high=len(cities))\n",
    "# # Starting URL for Weather Map API Call\n",
    "# url = \"http://api.openweathermap.org/data/2.5/weather?units=Imperial&APPID=\" + api_key \n",
    "# #for city in cities:\n",
    "# query_url = url + \"&q=\" + cities[selection]\n",
    "# # Get weather data\n",
    "# weather_response = requests.get(query_url)\n",
    "# weather_json = weather_response.json()\n",
    "\n",
    "# # Get the temperature from the response\n",
    "# #pprint(weather_json)\n",
    "# pprint(f\"The weather API for {cities[100]} responded with: \")\n",
    "# pprint(weather_json)\n",
    "# #print(api_key)\n",
    "# #weather_data = [ow.get_current(city, **settings) for city in cities] \n",
    "# # summary = [\"main.temp_max\", \"coord.lat\", \"coord.lon\", \"clouds.all\", \"wind.speed\", \"sys.country\", \"dt\", \"main.humidity\", \"name\"] Saved for later\n",
    "# #sumlist = [\"name\", \"clouds.all\", \"sys.country\", \"dt\", \"main.humidity\", \"coord.lat\", \"coord.lon\", \"main.temp_max\", \"wind.speed\"]\n"
   ]
  },
  {
   "cell_type": "code",
   "execution_count": 3,
   "metadata": {},
   "outputs": [
    {
     "ename": "KeyError",
     "evalue": "'name'",
     "output_type": "error",
     "traceback": [
      "\u001b[1;31m---------------------------------------------------------------------------\u001b[0m",
      "\u001b[1;31mKeyError\u001b[0m                                  Traceback (most recent call last)",
      "\u001b[1;32m<ipython-input-3-501165cbf09b>\u001b[0m in \u001b[0;36m<module>\u001b[1;34m()\u001b[0m\n\u001b[0;32m     22\u001b[0m     \u001b[0mweather_response\u001b[0m \u001b[1;33m=\u001b[0m \u001b[0mrequests\u001b[0m\u001b[1;33m.\u001b[0m\u001b[0mget\u001b[0m\u001b[1;33m(\u001b[0m\u001b[0mquery_url\u001b[0m\u001b[1;33m)\u001b[0m\u001b[1;33m\u001b[0m\u001b[0m\n\u001b[0;32m     23\u001b[0m     \u001b[0mweather_json\u001b[0m \u001b[1;33m=\u001b[0m \u001b[0mweather_response\u001b[0m\u001b[1;33m.\u001b[0m\u001b[0mjson\u001b[0m\u001b[1;33m(\u001b[0m\u001b[1;33m)\u001b[0m\u001b[1;33m\u001b[0m\u001b[0m\n\u001b[1;32m---> 24\u001b[1;33m     \u001b[0mName\u001b[0m\u001b[1;33m.\u001b[0m\u001b[0mappend\u001b[0m\u001b[1;33m(\u001b[0m\u001b[0mweather_json\u001b[0m\u001b[1;33m[\u001b[0m\u001b[1;34m'name'\u001b[0m\u001b[1;33m]\u001b[0m\u001b[1;33m)\u001b[0m\u001b[1;33m\u001b[0m\u001b[0m\n\u001b[0m\u001b[0;32m     25\u001b[0m     \u001b[0mCloudiness\u001b[0m\u001b[1;33m.\u001b[0m\u001b[0mappend\u001b[0m\u001b[1;33m(\u001b[0m\u001b[0mweather_json\u001b[0m\u001b[1;33m[\u001b[0m\u001b[1;34m\"clouds\"\u001b[0m\u001b[1;33m]\u001b[0m\u001b[1;33m[\u001b[0m\u001b[1;34m\"all\"\u001b[0m\u001b[1;33m]\u001b[0m\u001b[1;33m)\u001b[0m\u001b[1;33m\u001b[0m\u001b[0m\n\u001b[0;32m     26\u001b[0m     \u001b[0mCountry\u001b[0m\u001b[1;33m.\u001b[0m\u001b[0mappend\u001b[0m\u001b[1;33m(\u001b[0m\u001b[0mweather_json\u001b[0m\u001b[1;33m[\u001b[0m\u001b[1;34m\"sys\"\u001b[0m\u001b[1;33m]\u001b[0m\u001b[1;33m[\u001b[0m\u001b[1;34m\"country\"\u001b[0m\u001b[1;33m]\u001b[0m\u001b[1;33m)\u001b[0m\u001b[1;33m\u001b[0m\u001b[0m\n",
      "\u001b[1;31mKeyError\u001b[0m: 'name'"
     ]
    }
   ],
   "source": [
    "Name = []\n",
    "Cloudiness = []\n",
    "Country = []\n",
    "Date = []\n",
    "Humidity = []\n",
    "Latitude = []\n",
    "Longitude = []\n",
    "Temperature = []\n",
    "Wind_Speed = []\n",
    "api_key = owmapi_key\n",
    "selection = np.random.randint(low=0, high=len(cities))\n",
    "# Starting URL for Weather Map API Call\n",
    "url = \"http://api.openweathermap.org/data/2.5/weather?units=Imperial&APPID=\" + api_key \n",
    "#for city in cities:\n",
    "query_url = url + \"&q=\" + cities[selection]\n",
    "# Get weather data\n",
    "weather_response = requests.get(query_url)\n",
    "weather_json = weather_response.json()\n",
    "for city in range(len(cities)):\n",
    "    query_url = url + \"&q=\" + cities[city]\n",
    "    # Get weather data\n",
    "    weather_response = requests.get(query_url)\n",
    "    weather_json = weather_response.json()\n",
    "    Name.append(weather_json['name'])\n",
    "    Cloudiness.append(weather_json[\"clouds\"][\"all\"])\n",
    "    Country.append(weather_json[\"sys\"][\"country\"])\n",
    "    Date.append(weather_json[\"dt\"])\n",
    "    Humidity.append(weather_json[\"main\"][\"humidity\"])\n",
    "    Latitude.append(weather_json[\"coord\"][\"lat\"])\n",
    "    Longitude.append(weather_json[\"coord\"][\"lon\"])\n",
    "    Temperature.append(weather_json[\"main\"][\"temp_max\"])\n",
    "    Wind_Speed.append(weather_json[\"wind\"][\"speed\"])\n",
    "#print(len(Name))\n",
    "#sumlist = [\"name\", \"clouds.all\", \"sys.country\", \"dt\", \"main.humidity\", \"coord.lat\", \"coord.lon\", \"main.temp_max\", \"wind.speed\"]\n",
    "print(len(Name))"
   ]
  },
  {
   "cell_type": "code",
   "execution_count": 5,
   "metadata": {},
   "outputs": [
    {
     "ename": "KeyError",
     "evalue": "'name'",
     "output_type": "error",
     "traceback": [
      "\u001b[1;31m---------------------------------------------------------------------------\u001b[0m",
      "\u001b[1;31mKeyError\u001b[0m                                  Traceback (most recent call last)",
      "\u001b[1;32m<ipython-input-5-b734e7d986e4>\u001b[0m in \u001b[0;36m<module>\u001b[1;34m()\u001b[0m\n\u001b[1;32m----> 1\u001b[1;33m \u001b[0mweather_json\u001b[0m\u001b[1;33m[\u001b[0m\u001b[1;34m'name'\u001b[0m\u001b[1;33m]\u001b[0m\u001b[1;33m\u001b[0m\u001b[0m\n\u001b[0m\u001b[0;32m      2\u001b[0m \u001b[1;31m# cities[0]\u001b[0m\u001b[1;33m\u001b[0m\u001b[1;33m\u001b[0m\u001b[0m\n\u001b[0;32m      3\u001b[0m \u001b[1;31m# for i in range(len(cities)):\u001b[0m\u001b[1;33m\u001b[0m\u001b[1;33m\u001b[0m\u001b[0m\n\u001b[0;32m      4\u001b[0m \u001b[1;31m#     print (cities[i])\u001b[0m\u001b[1;33m\u001b[0m\u001b[1;33m\u001b[0m\u001b[0m\n",
      "\u001b[1;31mKeyError\u001b[0m: 'name'"
     ]
    }
   ],
   "source": [
    "weather_json['name']\n",
    "# cities[0]\n",
    "# for i in range(len(cities)):\n",
    "#     print (cities[i])"
   ]
  },
  {
   "cell_type": "code",
   "execution_count": 6,
   "metadata": {},
   "outputs": [
    {
     "ename": "KeyError",
     "evalue": "'main'",
     "output_type": "error",
     "traceback": [
      "\u001b[1;31m---------------------------------------------------------------------------\u001b[0m",
      "\u001b[1;31mKeyError\u001b[0m                                  Traceback (most recent call last)",
      "\u001b[1;32m<ipython-input-6-52cd2e37502c>\u001b[0m in \u001b[0;36m<module>\u001b[1;34m()\u001b[0m\n\u001b[1;32m----> 1\u001b[1;33m \u001b[0mweather_json\u001b[0m\u001b[1;33m[\u001b[0m\u001b[1;34m\"main\"\u001b[0m\u001b[1;33m]\u001b[0m\u001b[1;33m[\u001b[0m\u001b[1;34m\"humidity\"\u001b[0m\u001b[1;33m]\u001b[0m\u001b[1;33m\u001b[0m\u001b[0m\n\u001b[0m",
      "\u001b[1;31mKeyError\u001b[0m: 'main'"
     ]
    }
   ],
   "source": [
    "weather_json[\"main\"][\"humidity\"]"
   ]
  },
  {
   "cell_type": "code",
   "execution_count": 4,
   "metadata": {},
   "outputs": [
    {
     "name": "stdout",
     "output_type": "stream",
     "text": [
      "5\n",
      "5\n",
      "5\n",
      "5\n",
      "5\n",
      "5\n",
      "5\n",
      "5\n"
     ]
    }
   ],
   "source": [
    "print(len(Name))\n",
    "print(len(Cloudiness))\n",
    "print(len(Country))\n",
    "print(len(Humidity))\n",
    "print(len(Latitude))\n",
    "print(len(Longitude))\n",
    "print(len(Temperature))\n",
    "print(len(Wind_Speed))\n",
    "#pprint(f\"The weather API for {cities[100]} responded with: \")\n",
    "#pprint(weather_json)"
   ]
  },
  {
   "cell_type": "code",
   "execution_count": 6,
   "metadata": {},
   "outputs": [
    {
     "name": "stdout",
     "output_type": "stream",
     "text": [
      "['Ribeira Grande', 'Okitipupa', 'Busselton', 'Severo-Kurilsk', 'San Patricio']\n",
      "[20, 76, 92, 92, 92]\n",
      "['PT', 'NG', 'AU', 'RU', 'PY']\n"
     ]
    }
   ],
   "source": [
    "#print(Name)\n",
    "#print(Cloudiness)\n",
    "#print(Country)\n",
    "# print(Humidity[100])\n",
    "# print(Latitude[100])\n",
    "# print(Longitude[100])\n",
    "# print(Temperature[100])\n",
    "# print(Wind_Speed[100])\n",
    "#Humidity = [i/100 for i in Humidity]\n",
    "#Name"
   ]
  },
  {
   "cell_type": "code",
   "execution_count": 42,
   "metadata": {},
   "outputs": [
    {
     "data": {
      "text/html": [
       "<div>\n",
       "<style scoped>\n",
       "    .dataframe tbody tr th:only-of-type {\n",
       "        vertical-align: middle;\n",
       "    }\n",
       "\n",
       "    .dataframe tbody tr th {\n",
       "        vertical-align: top;\n",
       "    }\n",
       "\n",
       "    .dataframe thead th {\n",
       "        text-align: right;\n",
       "    }\n",
       "</style>\n",
       "<table border=\"1\" class=\"dataframe\">\n",
       "  <thead>\n",
       "    <tr style=\"text-align: right;\">\n",
       "      <th></th>\n",
       "      <th>City Name</th>\n",
       "      <th>Cloudiness</th>\n",
       "      <th>Country</th>\n",
       "      <th>Humidity</th>\n",
       "      <th>Latitude</th>\n",
       "      <th>Longitude</th>\n",
       "      <th>Temperature</th>\n",
       "      <th>Wind Speed</th>\n",
       "    </tr>\n",
       "  </thead>\n",
       "  <tbody>\n",
       "    <tr>\n",
       "      <th>0</th>\n",
       "      <td>Ribeira Grande</td>\n",
       "      <td>20</td>\n",
       "      <td>PT</td>\n",
       "      <td>69</td>\n",
       "      <td>38.52</td>\n",
       "      <td>-28.70</td>\n",
       "      <td>77.00</td>\n",
       "      <td>9.17</td>\n",
       "    </tr>\n",
       "    <tr>\n",
       "      <th>1</th>\n",
       "      <td>Okitipupa</td>\n",
       "      <td>76</td>\n",
       "      <td>NG</td>\n",
       "      <td>85</td>\n",
       "      <td>6.50</td>\n",
       "      <td>4.78</td>\n",
       "      <td>81.22</td>\n",
       "      <td>4.76</td>\n",
       "    </tr>\n",
       "    <tr>\n",
       "      <th>2</th>\n",
       "      <td>Busselton</td>\n",
       "      <td>92</td>\n",
       "      <td>AU</td>\n",
       "      <td>100</td>\n",
       "      <td>-33.64</td>\n",
       "      <td>115.35</td>\n",
       "      <td>60.43</td>\n",
       "      <td>25.46</td>\n",
       "    </tr>\n",
       "    <tr>\n",
       "      <th>3</th>\n",
       "      <td>Severo-Kurilsk</td>\n",
       "      <td>92</td>\n",
       "      <td>RU</td>\n",
       "      <td>96</td>\n",
       "      <td>50.68</td>\n",
       "      <td>156.12</td>\n",
       "      <td>49.09</td>\n",
       "      <td>12.48</td>\n",
       "    </tr>\n",
       "    <tr>\n",
       "      <th>4</th>\n",
       "      <td>San Patricio</td>\n",
       "      <td>92</td>\n",
       "      <td>PY</td>\n",
       "      <td>92</td>\n",
       "      <td>-26.98</td>\n",
       "      <td>-56.83</td>\n",
       "      <td>66.55</td>\n",
       "      <td>5.21</td>\n",
       "    </tr>\n",
       "  </tbody>\n",
       "</table>\n",
       "</div>"
      ],
      "text/plain": [
       "        City Name  Cloudiness Country  Humidity  Latitude  Longitude  \\\n",
       "0  Ribeira Grande          20      PT        69     38.52     -28.70   \n",
       "1       Okitipupa          76      NG        85      6.50       4.78   \n",
       "2       Busselton          92      AU       100    -33.64     115.35   \n",
       "3  Severo-Kurilsk          92      RU        96     50.68     156.12   \n",
       "4    San Patricio          92      PY        92    -26.98     -56.83   \n",
       "\n",
       "   Temperature  Wind Speed  \n",
       "0        77.00        9.17  \n",
       "1        81.22        4.76  \n",
       "2        60.43       25.46  \n",
       "3        49.09       12.48  \n",
       "4        66.55        5.21  "
      ]
     },
     "execution_count": 42,
     "metadata": {},
     "output_type": "execute_result"
    }
   ],
   "source": [
    "#labels = [\"City Name\", \"Cloudiness\", \"Country\", \"Humidity(%)\", \"Latitude\", \"Longitude\", \"Temperature\", \"Wind Speed\"]\n",
    "#sset = [Longitude, Temperature, Wind_Speed]\n",
    "weather_df = pd.DataFrame(Name)\n",
    "#weather_df.index.name = \"City Name\"\n",
    "weather_df.reset_index()\n",
    "weather_df.columns = [\"City Name\"]\n",
    "weather_df[\"Cloudiness\"] = Cloudiness\n",
    "weather_df[\"Country\"] = Country\n",
    "weather_df[\"Humidity\"] = Humidity\n",
    "weather_df[\"Latitude\"] = Latitude\n",
    "weather_df[\"Longitude\"] = Longitude\n",
    "weather_df[\"Temperature\"] = Temperature\n",
    "weather_df[\"Wind Speed\"] = Wind_Speed\n",
    "weather_df.head()\n"
   ]
  },
  {
   "cell_type": "code",
   "execution_count": 45,
   "metadata": {},
   "outputs": [],
   "source": [
    "weather_df.to_csv(output_data_file, encoding='utf-8')"
   ]
  },
  {
   "cell_type": "code",
   "execution_count": 64,
   "metadata": {},
   "outputs": [
    {
     "data": {
      "image/png": "[encoded data removed]",
      "text/plain": [
       "<Figure size 432x288 with 1 Axes>"
      ]
     },
     "metadata": {},
     "output_type": "display_data"
    }
   ],
   "source": [
    "plt.scatter(Latitude, Temperature, marker='o', alpha=0.7, c=\"blue\", edgecolor='black')\n",
    "plt.title('City Latitude vs Max Temperature (' + str(now.month) + \"/\" + str(now.day) +\"/\" +str(now.year)+\")\")\n",
    "plt.xlabel('Latitude')\n",
    "plt.ylabel('Max Temperature (F)')\n",
    "plt.grid(b=True, which='both', axis='both')\n",
    "plt.savefig(\"output_data/LativsTemp.png\")"
   ]
  },
  {
   "cell_type": "code",
   "execution_count": 60,
   "metadata": {},
   "outputs": [
    {
     "data": {
      "image/png": "[encoded data removed]",
      "text/plain": [
       "<Figure size 432x288 with 1 Axes>"
      ]
     },
     "metadata": {},
     "output_type": "display_data"
    }
   ],
   "source": [
    "plt.scatter(Latitude, Humidity, marker='o', alpha=0.7, c=\"blue\", edgecolor='black')\n",
    "plt.title('City Latitude vs Humidity (' + str(now.month) + \"/\" + str(now.day) +\"/\" +str(now.year)+\")\")\n",
    "plt.xlabel('Latitude')\n",
    "plt.ylabel('Humidity (Percentage)')\n",
    "plt.grid(b=True, which='both', axis='both')\n",
    "plt.savefig(\"output_data/LativsHumi.png\")"
   ]
  },
  {
   "cell_type": "code",
   "execution_count": 63,
   "metadata": {},
   "outputs": [
    {
     "data": {
      "image/png": "[encoded data removed]",
      "text/plain": [
       "<Figure size 432x288 with 1 Axes>"
      ]
     },
     "metadata": {},
     "output_type": "display_data"
    }
   ],
   "source": [
    "plt.scatter(Latitude, Cloudiness, marker='o', alpha=0.9, c=\"blue\", edgecolor='black')\n",
    "plt.title('City Latitude vs Cloudiness (' + str(now.month) + \"/\" + str(now.day) +\"/\" +str(now.year)+\")\")\n",
    "plt.xlabel('Latitude')\n",
    "plt.ylabel('Cloudiness (%)')\n",
    "plt.grid(b=True, which='both', axis='both')\n",
    "plt.savefig(\"output_data/LativsClouds.png\")"
   ]
  },
  {
   "cell_type": "code",
   "execution_count": 62,
   "metadata": {},
   "outputs": [
    {
     "data": {
      "image/png": "[encoded data removed]",
      "text/plain": [
       "<Figure size 432x288 with 1 Axes>"
      ]
     },
     "metadata": {},
     "output_type": "display_data"
    }
   ],
   "source": [
    "plt.scatter(Latitude, Wind_Speed, marker='o', alpha=0.9, c=\"blue\", edgecolor='black')\n",
    "plt.title('City Latitude vs Wind Speed (MPH) (' + str(now.month) + \"/\" + str(now.day) +\"/\" +str(now.year)+\")\")\n",
    "plt.xlabel('Latitude')\n",
    "plt.ylabel('Wind Speed (MPH)')\n",
    "plt.grid(b=True, which='both', axis='both')\n",
    "plt.savefig(\"output_data/LativsWindMPH.png\")"
   ]
  },
  {
   "cell_type": "code",
   "execution_count": null,
   "metadata": {},
   "outputs": [],
   "source": []
  }
 ],
 "metadata": {
  "anaconda-cloud": {},
  "kernelspec": {
   "display_name": "Python 3",
   "language": "python",
   "name": "python3"
  },
  "language_info": {
   "codemirror_mode": {
    "name": "ipython",
    "version": 3
   },
   "file_extension": ".py",
   "mimetype": "text/x-python",
   "name": "python",
   "nbconvert_exporter": "python",
   "pygments_lexer": "ipython3",
   "version": "3.6.5"
  }
 },
 "nbformat": 4,
 "nbformat_minor": 1
}
